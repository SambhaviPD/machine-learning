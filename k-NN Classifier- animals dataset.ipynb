# To connect G drive to Colab 
# so that we can load data from there
from google.colab import drive
drive.mount("/content/gdrive")

import cv2
import os
import numpy as np
from pathlib import Path

data = []
labels = []

# Mention the path corresponding to your google drive
root_directory = '/content/gdrive/My Drive/Colab Notebooks/'
dataset_directory = root_directory + 'animal-dataset/animals/animals'

# images are in dataset_directory/{class}/imagename.jpg
# we iterate through each and store image and corresponding
# file in appropriate list
for image in Path(dataset_directory).glob('**/*.jpg'):
  labels.append((str(image).split(os.path.sep)[-2]))
  image = cv2.imread(str(image))
  image = cv2.resize(image, (32, 32), interpolation=cv2.INTER_AREA)
  data.append(image)
  
# Encode data columns
from sklearn.preprocessing import LabelEncoder
le = LabelEncoder()
labels = le.fit_transform(labels)

# Split input dataset to training and testing
from sklearn.model_selection import train_test_split
print(len(data), len(labels))
data = np.array(data).reshape((np.array(data).shape[0], 3072))
X_train, X_test, Y_train, Y_test = train_test_split(data, labels, test_size=0.25, random_state=42)

from sklearn.neighbors import KNeighborsClassifier
from sklearn.metrics import classification_report
model = KNeighborsClassifier(n_neighbors=3)
model.fit(X_train, Y_train)
print(classification_report(Y_test, model.predict(X_test), target_names=le.classes_))
